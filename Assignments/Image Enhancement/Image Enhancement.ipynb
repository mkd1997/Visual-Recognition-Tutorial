{
 "cells": [
  {
   "cell_type": "markdown",
   "metadata": {},
   "source": [
    "Images contain a lot of information. However, due to the encoding an compression techniques, many details become unperceivable to the human eye. We use image enhancement techniques to make these details perceivable to the human eye.\n",
    "\n",
    "Two techniques are explored in this notebook:\n",
    "    1. Whitening\n",
    "    2. Histogram Equalization    "
   ]
  },
  {
   "cell_type": "code",
   "execution_count": 18,
   "metadata": {},
   "outputs": [],
   "source": [
    "# all imports\n",
    "import cv2\n",
    "import numpy as np\n",
    "import matplotlib.pyplot as plt\n",
    "%matplotlib inline\n",
    "\n",
    "FIG_SIZE = (5,5)"
   ]
  },
  {
   "cell_type": "markdown",
   "metadata": {},
   "source": [
    "## Whitening\n",
    "Image whitening can be thought of as image normalization. This helps in increasing the overall brightness of the image. Thus, the image, which previously was spanning only a small interval of spectrum, now will span the entire spectrum."
   ]
  },
  {
   "cell_type": "code",
   "execution_count": 19,
   "metadata": {},
   "outputs": [
    {
     "name": "stdout",
     "output_type": "stream",
     "text": [
      "<class 'numpy.ndarray'> (5, 8)\n"
     ]
    },
    {
     "data": {
      "text/plain": [
       "<matplotlib.image.AxesImage at 0x7fd5d2c91080>"
      ]
     },
     "execution_count": 19,
     "metadata": {},
     "output_type": "execute_result"
    },
    {
     "data": {
      "image/png": "[encoded data removed]",
      "text/plain": [
       "<Figure size 360x360 with 1 Axes>"
      ]
     },
     "metadata": {
      "needs_background": "light"
     },
     "output_type": "display_data"
    }
   ],
   "source": [
    "orig_image = cv2.imread(\"./inp.jpg\")\n",
    "\n",
    "# convert the image to gayscale\n",
    "orig_image = cv2.cvtColor(orig_image, cv2.COLOR_BGR2GRAY)\n",
    "\n",
    "# resizing image to 5 x 8\n",
    "orig_image = cv2.resize(orig_image, (8,5))\n",
    "print(type(orig_image), orig_image.shape)\n",
    "plt.figure(figsize=FIG_SIZE)\n",
    "plt.imshow(orig_image, cmap=\"gray\")"
   ]
  },
  {
   "cell_type": "code",
   "execution_count": 20,
   "metadata": {},
   "outputs": [
    {
     "data": {
      "text/plain": [
       "<matplotlib.image.AxesImage at 0x7fd5e01d4c88>"
      ]
     },
     "execution_count": 20,
     "metadata": {},
     "output_type": "execute_result"
    },
    {
     "data": {
      "image/png": "[encoded data removed]",
      "text/plain": [
       "<Figure size 360x360 with 1 Axes>"
      ]
     },
     "metadata": {
      "needs_background": "light"
     },
     "output_type": "display_data"
    }
   ],
   "source": [
    "# get a new image for output\n",
    "whiten_op = np.zeros(orig_image.shape, orig_image.dtype)\n",
    "\n",
    "# perform whitening\n",
    "mean_intensity = orig_image.mean()\n",
    "std_dev_intensity = orig_image.std()\n",
    "whiten_op = (orig_image - mean_intensity) / std_dev_intensity\n",
    "\n",
    "# display image\n",
    "plt.figure(figsize=FIG_SIZE)\n",
    "plt.imshow(whiten_op, cmap=\"gray\")"
   ]
  },
  {
   "cell_type": "markdown",
   "metadata": {},
   "source": [
    "## Histogram Equalization\n",
    "Many times the intensities in an image are unevenly spread. Using this transformation, the intensities are equally distributed. Histogram equalization spreads the bright intensities in an image over a larger intensity range, and hence increases the contrast of the image."
   ]
  },
  {
   "cell_type": "code",
   "execution_count": 22,
   "metadata": {},
   "outputs": [
    {
     "data": {
      "image/png": "[encoded data removed]",
      "text/plain": [
       "<Figure size 360x360 with 1 Axes>"
      ]
     },
     "metadata": {
      "needs_background": "light"
     },
     "output_type": "display_data"
    }
   ],
   "source": [
    "# get a new image for output\n",
    "hist_eq_op = np.zeros(orig_image.shape, orig_image.dtype)\n",
    "\n",
    "# perform equalization\n",
    "hist = cv2.calcHist([orig_image], [0], None, [256], [0, 256])\n",
    "cumulative_prop = np.zeros(hist.shape, np.float32)\n",
    "roll_sum = 0.0\n",
    "for i in range(256):\n",
    "    roll_sum += hist[i]\n",
    "    cumulative_prop[i] = roll_sum / (orig_image.shape[0] * orig_image.shape[1])\n",
    "\n",
    "for i in range(orig_image.shape[0]):\n",
    "    for j in range(orig_image.shape[1]):        \n",
    "        hist_eq_op[i][j] = 255 * cumulative_prop[orig_image[i][j]]\n",
    "\n",
    "plt.figure(figsize=FIG_SIZE)\n",
    "plt.imshow(hist_eq_op, cmap=\"gray\")\n",
    "\n",
    "# view full size image\n",
    "cv2.imshow(\"output\", hist_eq_op)\n",
    "cv2.waitKey(0)\n",
    "cv2.destroyAllWindows()"
   ]
  },
  {
   "cell_type": "code",
   "execution_count": 28,
   "metadata": {},
   "outputs": [
    {
     "name": "stdout",
     "output_type": "stream",
     "text": [
      "[[153 204  12  19  31 255 229 178]\n",
      " [165 216  89 133  95 242 248 204]\n",
      " [159  38  57 223  63 191 242 191]\n",
      " [140  51   6 114 121 102 216 172]\n",
      " [108  70  44  76  25  89 153 127]]\n"
     ]
    },
    {
     "data": {
      "text/plain": [
       "<matplotlib.image.AxesImage at 0x7fd5d23e2ba8>"
      ]
     },
     "execution_count": 28,
     "metadata": {},
     "output_type": "execute_result"
    },
    {
     "data": {
      "image/png": "[encoded data removed]",
      "text/plain": [
       "<Figure size 360x360 with 1 Axes>"
      ]
     },
     "metadata": {
      "needs_background": "light"
     },
     "output_type": "display_data"
    }
   ],
   "source": [
    "print(hist_eq_op)\n",
    "plt.imsave(\"./hist_resize_op.jpg\", hist_eq_op, cmap=\"gray\")\n",
    "hist_op_img = cv2.imread(\"./hist_resize_op.jpg\")\n",
    "plt.figure(figsize=FIG_SIZE)\n",
    "plt.imshow(hist_op_img, cmap=\"gray\")"
   ]
  },
  {
   "cell_type": "code",
   "execution_count": 24,
   "metadata": {},
   "outputs": [
    {
     "data": {
      "image/png": "[encoded data removed]",
      "text/plain": [
       "<Figure size 360x360 with 1 Axes>"
      ]
     },
     "metadata": {
      "needs_background": "light"
     },
     "output_type": "display_data"
    }
   ],
   "source": [
    "# plot histogram of original image\n",
    "plt.figure(figsize=FIG_SIZE)\n",
    "plt.hist(orig_image.ravel(),256,[0,256], cumulative=True)\n",
    "plt.show()"
   ]
  },
  {
   "cell_type": "code",
   "execution_count": 25,
   "metadata": {},
   "outputs": [
    {
     "data": {
      "image/png": "[encoded data removed]",
      "text/plain": [
       "<Figure size 360x360 with 1 Axes>"
      ]
     },
     "metadata": {
      "needs_background": "light"
     },
     "output_type": "display_data"
    }
   ],
   "source": [
    "# plot histogram of output image\n",
    "plt.figure(figsize=FIG_SIZE)\n",
    "plt.hist(hist_eq_op.ravel(),256,[0,256], cumulative=True)\n",
    "plt.show()"
   ]
  },
  {
   "cell_type": "code",
   "execution_count": null,
   "metadata": {},
   "outputs": [],
   "source": []
  }
 ],
 "metadata": {
  "kernelspec": {
   "display_name": "Python 3",
   "language": "python",
   "name": "python3"
  },
  "language_info": {
   "codemirror_mode": {
    "name": "ipython",
    "version": 3
   },
   "file_extension": ".py",
   "mimetype": "text/x-python",
   "name": "python",
   "nbconvert_exporter": "python",
   "pygments_lexer": "ipython3",
   "version": "3.6.9"
  }
 },
 "nbformat": 4,
 "nbformat_minor": 2
}
