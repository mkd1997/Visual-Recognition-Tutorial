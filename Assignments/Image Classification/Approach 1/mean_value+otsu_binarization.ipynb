{
 "cells": [
  {
   "cell_type": "markdown",
   "metadata": {},
   "source": [
    "# Introduction\n",
    "\n",
    "Here we aim to classify images into daylight landscapes, nightlight landscapes and portraits by designing features and using kNN classifier."
   ]
  },
  {
   "cell_type": "code",
   "execution_count": 1,
   "metadata": {},
   "outputs": [],
   "source": [
    "# all imports\n",
    "import cv2\n",
    "import matplotlib.pyplot as plt\n",
    "import numpy as np\n",
    "import os"
   ]
  },
  {
   "cell_type": "markdown",
   "metadata": {},
   "source": [
    "## Average brightness\n",
    "\n",
    "In the HSV colorspace, the 'value' of each pixel corresponds to the brightness of that pixel. Since, we know that night landscapes are inherently dark and vice versa, we can use average value of the images as a feature to distinguish between the two."
   ]
  },
  {
   "cell_type": "code",
   "execution_count": 2,
   "metadata": {},
   "outputs": [],
   "source": [
    "# get mean value\n",
    "def get_mean_value(img):\n",
    "    hsv_img = cv2.cvtColor(img, cv2.COLOR_BGR2HSV)\n",
    "    mean_value = np.mean(hsv_img[:,:,2])\n",
    "    return hsv_img, mean_value"
   ]
  },
  {
   "cell_type": "markdown",
   "metadata": {},
   "source": [
    "## Otsu binarization\n",
    "\n",
    "When we binarize a portrait, the face and the background form the foreground and background respectively. Also, there is a clear distinction between the average intensities in the grayscale image corresponding to the binary image. This is not true for any landscape. Hence, we use the difference between average grayscale intensities of the foreground and background of the images as a feature."
   ]
  },
  {
   "cell_type": "code",
   "execution_count": 3,
   "metadata": {},
   "outputs": [],
   "source": [
    "# get otsu binarization\n",
    "def get_otsu(img):\n",
    "    gray_img = cv2.cvtColor(img, cv2.COLOR_BGR2GRAY)\n",
    "    blur = cv2.GaussianBlur(gray_img,(5,5),0)\n",
    "    \n",
    "    # find normalized_histogram, and its cumulative distribution function\n",
    "    hist = cv2.calcHist([blur],[0],None,[256],[0,256])\n",
    "    hist_norm = hist.ravel()/hist.sum()\n",
    "    Q = hist_norm.cumsum()\n",
    "    bins = np.arange(256)\n",
    "    fn_min = np.inf\n",
    "    thresh = -1\n",
    "    for i in range(1,256):\n",
    "        p1,p2 = np.hsplit(hist_norm,[i]) # probabilities\n",
    "        q1,q2 = Q[i],Q[255]-Q[i] # cumulative sum of classes\n",
    "        if q1 < 1.e-6 or q2 < 1.e-6:\n",
    "            continue\n",
    "        b1,b2 = np.hsplit(bins,[i]) # weights\n",
    "        # finding means and variances\n",
    "        m1,m2 = np.sum(p1*b1)/q1, np.sum(p2*b2)/q2\n",
    "        v1,v2 = np.sum(((b1-m1)**2)*p1)/q1,np.sum(((b2-m2)**2)*p2)/q2\n",
    "        # calculates the minimization function\n",
    "        fn = v1*q1 + v2*q2\n",
    "        if fn < fn_min:\n",
    "            fn_min = fn\n",
    "            thresh = i\n",
    "    # find otsu's threshold value with OpenCV function\n",
    "    ret, otsu = cv2.threshold(blur,0,255,cv2.THRESH_BINARY+cv2.THRESH_OTSU)    \n",
    "    \n",
    "    # get inter-class seperation of mean intensities\n",
    "    white_pixels = gray_img[otsu == 255]\n",
    "    black_pixels = gray_img[otsu == 0]\n",
    "    mean_diff = white_pixels.mean() - black_pixels.mean()\n",
    "    abs_diff = abs(mean_diff)\n",
    "    return otsu, abs_diff"
   ]
  },
  {
   "cell_type": "code",
   "execution_count": 4,
   "metadata": {},
   "outputs": [],
   "source": [
    "# get image features\n",
    "feats = []\n",
    "labels = []\n",
    "for file in os.listdir('../Train Images/portrait'):\n",
    "    img = cv2.imread('../Train Images/portrait/' + file)\n",
    "    hsv_img, mean_value = get_mean_value(img)\n",
    "    otsu, abs_diff = get_otsu(img)\n",
    "    feat_vec = [mean_value, abs_diff]\n",
    "    feats.append(feat_vec)\n",
    "    labels.append([0])\n",
    "    \n",
    "for file in os.listdir('../Train Images/day-landscape'):\n",
    "    img = cv2.imread('../Train Images/day-landscape/' + file)\n",
    "    hsv_img, mean_value = get_mean_value(img)\n",
    "    otsu, abs_diff = get_otsu(img)\n",
    "    feat_vec = [mean_value, abs_diff]\n",
    "    feats.append(feat_vec)\n",
    "    labels.append([1])\n",
    "    \n",
    "for file in os.listdir('../Train Images/night-landscape'):\n",
    "    img = cv2.imread('../Train Images/night-landscape/' + file)\n",
    "    hsv_img, mean_value = get_mean_value(img)\n",
    "    otsu, abs_diff = get_otsu(img)\n",
    "    feat_vec = [mean_value, abs_diff]\n",
    "    feats.append(feat_vec)\n",
    "    labels.append([2])\n",
    "\n",
    "feats = np.array(feats, dtype=np.float32)\n",
    "labels = np.array(labels, dtype=np.float32)"
   ]
  },
  {
   "cell_type": "code",
   "execution_count": 5,
   "metadata": {},
   "outputs": [
    {
     "data": {
      "text/plain": [
       "True"
      ]
     },
     "execution_count": 5,
     "metadata": {},
     "output_type": "execute_result"
    }
   ],
   "source": [
    "# train knn classifier\n",
    "knn = cv2.ml.KNearest_create()\n",
    "knn.train(feats, cv2.ml.ROW_SAMPLE, labels)"
   ]
  },
  {
   "cell_type": "code",
   "execution_count": 6,
   "metadata": {},
   "outputs": [
    {
     "name": "stdout",
     "output_type": "stream",
     "text": [
      "[[110.07635  88.51414]]\n",
      "test_1.jpeg\n",
      "result:  [[0.]]\n",
      "\n",
      "[[49.28376 69.33861]]\n",
      "test_10.jpeg\n",
      "result:  [[2.]]\n",
      "\n",
      "[[70.24407 69.75939]]\n",
      "test_11.jpeg\n",
      "result:  [[2.]]\n",
      "\n",
      "[[150.54861 101.02058]]\n",
      "test_12.jpeg\n",
      "result:  [[0.]]\n",
      "\n",
      "[[96.91976 81.10951]]\n",
      "test_2.jpeg\n",
      "result:  [[2.]]\n",
      "\n",
      "[[ 62.46497  104.793076]]\n",
      "test_3.jpeg\n",
      "result:  [[2.]]\n",
      "\n",
      "[[77.30093 68.11229]]\n",
      "test_4.jpeg\n",
      "result:  [[2.]]\n",
      "\n",
      "[[127.97794  88.18447]]\n",
      "test_5.jpeg\n",
      "result:  [[1.]]\n",
      "\n",
      "[[87.304085 75.723335]]\n",
      "test_6.jpeg\n",
      "result:  [[2.]]\n",
      "\n",
      "[[176.90126 134.08897]]\n",
      "test_7.jpeg\n",
      "result:  [[1.]]\n",
      "\n",
      "[[77.61969 84.27217]]\n",
      "test_8.jpeg\n",
      "result:  [[2.]]\n",
      "\n",
      "[[168.62503 126.42834]]\n",
      "test_9.jpeg\n",
      "result:  [[0.]]\n",
      "\n"
     ]
    }
   ],
   "source": [
    "# test knn classifier\n",
    "for file in os.listdir('../Test Images'):\n",
    "    img = cv2.imread('../Test Images/' + file)\n",
    "    hsv_img, mean_value = get_mean_value(img)\n",
    "    plt.imsave('./HSV Images/' + file, hsv_img)\n",
    "    otsu, abs_diff = get_otsu(img)\n",
    "    plt.imsave('./Binarized Images/' + file, otsu, cmap='binary')\n",
    "    feat_vec = np.array([[np.float32(mean_value), np.float32(abs_diff)]], dtype=np.float32)        \n",
    "    print(file)\n",
    "    ret, results, neighbours ,dist = knn.findNearest(feat_vec, 3)\n",
    "    print( \"result:  {}\\n\".format(results))"
   ]
  },
  {
   "cell_type": "code",
   "execution_count": null,
   "metadata": {},
   "outputs": [],
   "source": []
  }
 ],
 "metadata": {
  "kernelspec": {
   "display_name": "Python 3",
   "language": "python",
   "name": "python3"
  },
  "language_info": {
   "codemirror_mode": {
    "name": "ipython",
    "version": 3
   },
   "file_extension": ".py",
   "mimetype": "text/x-python",
   "name": "python",
   "nbconvert_exporter": "python",
   "pygments_lexer": "ipython3",
   "version": "3.6.9"
  }
 },
 "nbformat": 4,
 "nbformat_minor": 2
}
